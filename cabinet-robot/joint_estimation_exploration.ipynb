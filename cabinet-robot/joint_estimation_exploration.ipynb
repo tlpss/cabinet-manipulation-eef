{
 "cells": [
  {
   "cell_type": "code",
   "execution_count": 9,
   "metadata": {},
   "outputs": [],
   "source": [
    "from cabinet_robot.joint_estimation import FGJointEstimator, sturm_twist_estimation, EstimationResults\n",
    "import jax\n",
    "import numpy as np\n",
    "from jaxlie import SE3 as jaxlie_SE3\n",
    "\n",
    "%reload_ext autoreload\n",
    "%autoreload 2"
   ]
  },
  {
   "cell_type": "code",
   "execution_count": 3,
   "metadata": {},
   "outputs": [],
   "source": [
    "# jax.config.update(\"jax_disable_jit\", True)\n"
   ]
  },
  {
   "cell_type": "code",
   "execution_count": 10,
   "metadata": {},
   "outputs": [],
   "source": [
    "original_part_pose = np.eye(4)\n",
    "original_part_pose[2, 3] = 0.1\n",
    "\n",
    "part_poses = [np.copy(original_part_pose)]\n",
    "for _ in range(10):\n",
    "    original_part_pose[0, 3] += 0.01\n",
    "    original_part_pose[1, 3] += 0.005\n",
    "    part_poses.append(np.copy(original_part_pose))\n"
   ]
  },
  {
   "cell_type": "code",
   "execution_count": 11,
   "metadata": {},
   "outputs": [],
   "source": [
    "estimator = FGJointEstimator()\n"
   ]
  },
  {
   "cell_type": "code",
   "execution_count": 13,
   "metadata": {},
   "outputs": [
    {
     "name": "stdout",
     "output_type": "stream",
     "text": [
      "HUBER_DELTA = DeviceArray(230.92856, dtype=float32)\n",
      "type(joint_parameters_variable) = <class 'articulation_estimation.factor_graph.states.GeneralJointParametersVariable'>\n"
     ]
    },
    {
     "data": {
      "text/plain": [
       "<articulation_estimation.factor_graph.graph.Graph at 0x7f9e58009f70>"
      ]
     },
     "execution_count": 13,
     "metadata": {},
     "output_type": "execute_result"
    }
   ],
   "source": [
    "estimator._build_graph(5) # builds but does not compile so should run fast\n"
   ]
  },
  {
   "cell_type": "code",
   "execution_count": 20,
   "metadata": {},
   "outputs": [
    {
     "name": "stdout",
     "output_type": "stream",
     "text": [
      "reusing compiled graph for 11 samples\n"
     ]
    },
    {
     "data": {
      "text/plain": [
       "<articulation_estimation.factor_graph.graph.Graph at 0x7f9e5357c1c0>"
      ]
     },
     "execution_count": 20,
     "metadata": {},
     "output_type": "execute_result"
    }
   ],
   "source": [
    "estimator.get_compiled_graph(11) # builds and compiles so should run slow the first time"
   ]
  },
  {
   "cell_type": "code",
   "execution_count": 19,
   "metadata": {},
   "outputs": [
    {
     "name": "stdout",
     "output_type": "stream",
     "text": [
      "reusing compiled graph for 11 samples\n",
      "Using VMAP to optimize all factor graph version\n",
      "all_costs = DeviceArray([1.4655766e+00, 1.1198006e+00, 4.4433222e+00, 5.7437098e-01,\n",
      "             1.0677587e+00, 3.2567003e+00, 2.2498279e+00, 3.8528821e-01,\n",
      "             5.9861779e-01, 1.5201143e+00, 1.3987130e+00, 1.5672419e+00,\n",
      "             1.7153782e+00, 2.9746876e+00, 1.9291578e-10, 2.3339765e+00,\n",
      "             1.8845421e-01, 1.6275932e+01, 1.9859222e+00, 7.3052108e-01,\n",
      "             1.8535779e+00, 1.3310499e+00, 3.0486526e+00, 1.9833050e+00,\n",
      "             1.4823640e-03, 1.5397809e+00, 1.2866598e-04, 6.9169289e-01,\n",
      "             3.2981355e+00, 2.4283152e-05, 3.0521581e+00, 2.1670644e+00,\n",
      "             2.8607643e+00, 1.0501614e-04, 6.2815239e-08, 1.1384237e+00,\n",
      "             1.5463040e+00, 2.1619160e+00, 9.6180648e-01, 5.8402424e-04,\n",
      "             2.8469574e+00, 5.4321857e-04, 1.0741606e-01, 4.0930950e-05,\n",
      "             2.1531644e+00, 3.7909180e-01, 6.3745821e-11, 1.4891479e+00,\n",
      "             2.4112449e+00, 3.2176104e+00, 1.5956484e+00, 4.9655314e-04,\n",
      "             2.5167041e+00, 4.1729617e-01, 1.8874586e-04, 1.5237498e-04,\n",
      "             3.6275567e-04, 1.1460228e+00, 8.3593798e-01, 2.3039513e-08,\n",
      "             1.5881611e-01, 1.3957570e+00, 1.4223036e-04, 4.0229354e+00,\n",
      "             1.9573676e-04, 1.5534987e-04, 2.2942138e+00, 3.1858580e+00,\n",
      "             2.4407194e+00, 2.6226177e+00, 2.3189750e+00, 2.1201337e-04,\n",
      "             2.2262391e-01, 9.9450173e-03, 4.5419871e-04, 4.5503120e+00,\n",
      "             4.1772518e+00, 2.0984170e+00, 9.1788548e-05, 1.5370682e+00,\n",
      "             3.3810525e+00, 4.1263737e-10, 9.9126577e-01, 2.5433184e-05,\n",
      "             1.5066062e-01, 6.6065721e-12, 2.6316109e+00, 1.7596836e+00,\n",
      "             1.9944535e-04, 8.5671387e+03, 5.2289402e-01, 4.4314804e+00,\n",
      "             3.9274842e-01, 8.7211980e-09, 5.3491282e-01, 5.5259304e+00,\n",
      "             1.4306031e+00, 6.6544580e+00, 8.6970198e-01, 3.4792267e-02],            dtype=float32)\n",
      "best_costs = DeviceArray(6.606572e-12, dtype=float32)\n",
      "joint_model_to_use = <JointFormulation.GeneralTwist: 1>\n",
      "estimation.twist=DeviceArray([ 4.0636510e-01,  2.0318255e-01,  2.8660097e-10,\n",
      "              3.5266456e-10, -7.0828321e-10, -3.0714626e-09],            dtype=float32)\n",
      "estimation.twist_frame_in_base_pose=SE3(wxyz=[-1.  0.  0.  0.], xyz=[0.05213    0.02607    0.09999999])\n"
     ]
    }
   ],
   "source": [
    "\n",
    "estimation = estimator.estimate_joint_twist(part_poses)\n",
    "print(f\"{estimation.twist=}\")\n",
    "print(f\"{estimation.twist_frame_in_base_pose=}\")"
   ]
  },
  {
   "cell_type": "code",
   "execution_count": 21,
   "metadata": {},
   "outputs": [
    {
     "name": "stdout",
     "output_type": "stream",
     "text": [
      "[[ 1.0000000e+00  3.7796130e-10 -8.7015110e-11  9.9999994e-02]\n",
      " [-3.7796130e-10  1.0000000e+00 -4.3322939e-11  4.9999997e-02]\n",
      " [ 8.7015110e-11  4.3322939e-11  1.0000000e+00  1.0000002e-01]\n",
      " [ 0.0000000e+00  0.0000000e+00  0.0000000e+00  1.0000000e+00]]\n",
      "[[ 1.0000000e+00 -3.7787684e-10  8.7282133e-11 -3.7252903e-09]\n",
      " [ 3.7787684e-10  1.0000000e+00  4.3462203e-11 -1.8626451e-09]\n",
      " [-8.7282133e-11 -4.3462203e-11  1.0000000e+00  1.0000002e-01]\n",
      " [ 0.0000000e+00  0.0000000e+00  0.0000000e+00  1.0000000e+00]]\n"
     ]
    }
   ],
   "source": [
    "# test: latent_pose second[0] = base_transform @ exp(twist * joint_state[0])\n",
    "\n",
    "print(\n",
    "    estimation.twist_frame_in_base_pose.as_matrix()\n",
    "    @ jaxlie_SE3.exp(estimation.twist * estimation.current_joint_configuration).as_matrix()\n",
    ")\n",
    "print(\n",
    "    estimation.twist_frame_in_base_pose.as_matrix()\n",
    "    @ jaxlie_SE3.exp(estimation.twist * estimation.aux_data[\"joint_states\"][0]).as_matrix()\n",
    ")\n",
    "\n",
    "import spatialmath.base as sm\n",
    "\n",
    "# twist_in_poses_frame = sm.tr2adjoint(np.asarray(results.base_transform.as_matrix())) @ np.asarray(results.twist)\n",
    "# print(jaxlie_SE3.exp(twist_in_poses_frame * results.aux_data[\"joint_states\"][5]).as_matrix())\n"
   ]
  },
  {
   "cell_type": "code",
   "execution_count": 6,
   "metadata": {},
   "outputs": [
    {
     "name": "stdout",
     "output_type": "stream",
     "text": [
      "[[0.56120133]\n",
      " [0.5690947 ]\n",
      " [0.5769883 ]\n",
      " [0.58488166]\n",
      " [0.59277517]\n",
      " [0.60066855]\n",
      " [0.608562  ]\n",
      " [0.6164555 ]\n",
      " [0.6243489 ]\n",
      " [0.6322424 ]\n",
      " [0.6401358 ]]\n"
     ]
    }
   ],
   "source": [
    "print(estimation.aux_data[\"joint_states\"])"
   ]
  },
  {
   "attachments": {},
   "cell_type": "markdown",
   "metadata": {},
   "source": [
    "## Explore methods for joint configuration estimation"
   ]
  },
  {
   "cell_type": "code",
   "execution_count": 7,
   "metadata": {},
   "outputs": [
    {
     "name": "stdout",
     "output_type": "stream",
     "text": [
      "the GT joint configuration is 0.6401358246803284\n"
     ]
    }
   ],
   "source": [
    "\n",
    "#  part pose = = base_transform @ exp(twist * joint_state)\n",
    "# so joint_state = log(base_transform^-1 @ part_pose) / twist\n",
    "# but this last division can suffer from numerical issues...\n",
    "\n",
    "part_pose = np.asarray(estimation.aux_data[\"latent_poses\"][\"second\"][-1].as_matrix())\n",
    "base_transform = np.asarray(estimation.twist_frame_in_base_pose.as_matrix())\n",
    "twist = np.asarray(estimation.twist)\n",
    "\n",
    "print(f\"the GT joint configuration is {estimation.current_joint_configuration}\")\n"
   ]
  },
  {
   "cell_type": "code",
   "execution_count": 8,
   "metadata": {},
   "outputs": [
    {
     "name": "stdout",
     "output_type": "stream",
     "text": [
      "[[ 9.9994844e-01 -1.0153786e-02 -1.7876686e-04  8.0883688e-01]\n",
      " [ 1.0153701e-02  9.9994832e-01 -4.7073461e-04  4.0969858e-01]\n",
      " [ 1.8353737e-04  4.6889522e-04  9.9999988e-01  1.7051399e-04]\n",
      " [ 0.0000000e+00  0.0000000e+00  0.0000000e+00  1.0000000e+00]]\n",
      "[ 0.64007269  0.64038825 -0.14997943  0.61411027  0.61432979  0.61415831]\n",
      "naive estimation = 0.4955133144422448\n"
     ]
    }
   ],
   "source": [
    "# naive joint configuration estimation -> numerical errors can dominate \n",
    "import spatialmath.base as sm\n",
    "\n",
    "pose_in_twist_frame = sm.trinv(base_transform) @ part_pose\n",
    "print(pose_in_twist_frame)\n",
    "joint_state = sm.trlog(pose_in_twist_frame, twist=True,check=False) / twist\n",
    "print(joint_state)\n",
    "print(f\"naive estimation = {np.mean(joint_state)}\")"
   ]
  },
  {
   "cell_type": "code",
   "execution_count": 9,
   "metadata": {},
   "outputs": [
    {
     "name": "stdout",
     "output_type": "stream",
     "text": [
      "[ 0.64007269  0.64038825 -0.14997943  0.61411027  0.61432979  0.61415831]\n",
      "[6.60724196e-01 3.30471011e-01 1.03260094e-06 3.82808736e-04\n",
      " 1.47604103e-04 8.27334720e-03]\n",
      "more robust estimation = 0.6399480214533965\n"
     ]
    }
   ],
   "source": [
    "# so weigh every factor according to the relative magnitude of the part twist to make a more robust estimate\n",
    "pose_twist = sm.trlog(pose_in_twist_frame, twist=True,check=False)\n",
    "normalized_pose_twist = pose_twist / np.linalg.norm(pose_twist,ord=1)\n",
    "print(pose_twist/twist)\n",
    "print(np.abs(normalized_pose_twist))\n",
    "print(f\"more robust estimation = {np.sum(pose_twist/twist * np.abs(normalized_pose_twist))}\")"
   ]
  },
  {
   "cell_type": "code",
   "execution_count": 10,
   "metadata": {},
   "outputs": [],
   "source": [
    "# but even better method is required...\n",
    "# do some explicit oultier detection or something?? \n",
    "# best option might be to use the results of the FG (which is however only valid in int the Twist frame of the FG..)"
   ]
  },
  {
   "attachments": {},
   "cell_type": "markdown",
   "metadata": {},
   "source": [
    "### Can we get rid of the 'twist frame' by expressing the twist in the base frame?"
   ]
  },
  {
   "cell_type": "code",
   "execution_count": 11,
   "metadata": {},
   "outputs": [
    {
     "name": "stdout",
     "output_type": "stream",
     "text": [
      "[ 1.26735039e+00  6.32588466e-01 -4.27035781e-05  7.65046551e-04\n",
      " -2.94882544e-04  1.65330638e-02]\n",
      "[ 1.2669029e+00  6.3334805e-01 -8.4499325e-06  7.6504663e-04\n",
      " -2.9488269e-04  1.6533064e-02]\n"
     ]
    }
   ],
   "source": [
    "# Twist_expressed_in_base = sm.tr2adjoint(base_transform) @ twist\n",
    "twist_expressed_in_base = sm.tr2adjoint(base_transform) @ twist\n",
    "print(twist_expressed_in_base)\n",
    "print(twist)"
   ]
  },
  {
   "cell_type": "code",
   "execution_count": 12,
   "metadata": {},
   "outputs": [],
   "source": [
    "# now the twist is expressed in the base frame\n",
    "# part_pose = part_pose[0] @ exp(twist * joint_state')\n"
   ]
  },
  {
   "cell_type": "code",
   "execution_count": 13,
   "metadata": {},
   "outputs": [
    {
     "name": "stdout",
     "output_type": "stream",
     "text": [
      "\u001b[2m2023-02-27T10:17:08.329424Z\u001b[0m \u001b[33m WARN\u001b[0m \u001b[2mrerun::run\u001b[0m\u001b[2m:\u001b[0m Failed to bind address \"0.0.0.0:9876\". Another Rerun instance is probably running.\n"
     ]
    }
   ],
   "source": [
    "import rerun \n",
    "rerun.init(\"test-joint-estimation\", spawn=True)\n"
   ]
  },
  {
   "cell_type": "code",
   "execution_count": 14,
   "metadata": {},
   "outputs": [],
   "source": [
    "rerun.log_points(\n",
    "    \"part_poses\",\n",
    "    positions=np.array(part_poses)[:, :3, 3],\n",
    "    colors=np.zeros((len(part_poses), 3), dtype=np.uint8),\n",
    "    radii=0.01,\n",
    ")"
   ]
  },
  {
   "cell_type": "code",
   "execution_count": 26,
   "metadata": {},
   "outputs": [
    {
     "name": "stdout",
     "output_type": "stream",
     "text": [
      "(11, 4, 4)\n"
     ]
    }
   ],
   "source": [
    "from cabinet_robot.visualisation import visualize_estimation\n",
    "visualize_estimation(estimation)"
   ]
  },
  {
   "cell_type": "code",
   "execution_count": null,
   "metadata": {},
   "outputs": [],
   "source": []
  }
 ],
 "metadata": {
  "kernelspec": {
   "display_name": "cabinet-manipulation",
   "language": "python",
   "name": "python3"
  },
  "language_info": {
   "codemirror_mode": {
    "name": "ipython",
    "version": 3
   },
   "file_extension": ".py",
   "mimetype": "text/x-python",
   "name": "python",
   "nbconvert_exporter": "python",
   "pygments_lexer": "ipython3",
   "version": "3.8.16"
  },
  "orig_nbformat": 4,
  "vscode": {
   "interpreter": {
    "hash": "89457b40fcf1113882414577f24f96d2ba778982c7827ae084ab5e840c57c8e1"
   }
  }
 },
 "nbformat": 4,
 "nbformat_minor": 2
}
