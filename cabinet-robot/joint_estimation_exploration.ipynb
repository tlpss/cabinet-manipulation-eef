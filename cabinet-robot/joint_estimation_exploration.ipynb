{
 "cells": [
  {
   "cell_type": "code",
   "execution_count": 1,
   "metadata": {},
   "outputs": [
    {
     "name": "stderr",
     "output_type": "stream",
     "text": [
      "/home/tlips/.conda/envs/cabinet-manipulation/lib/python3.8/site-packages/scipy/__init__.py:138: UserWarning: A NumPy version >=1.16.5 and <1.23.0 is required for this version of SciPy (detected version 1.24.2)\n",
      "  warnings.warn(f\"A NumPy version >={np_minversion} and <{np_maxversion} is required for this version of \"\n"
     ]
    },
    {
     "name": "stdout",
     "output_type": "stream",
     "text": [
      "/home/tlips/Documents/cabinet-manipulation-eef/cat-ind-fg/articulation_estimation\n"
     ]
    }
   ],
   "source": [
    "from cabinet_robot.joint_estimation import FG_twist_estimation, sturm_twist_estimation, EstimationResults\n",
    "import jax\n",
    "import numpy as np\n",
    "from jaxlie import SE3 as jaxlie_SE3\n",
    "\n",
    "%reload_ext autoreload\n",
    "%autoreload 2"
   ]
  },
  {
   "cell_type": "code",
   "execution_count": 2,
   "metadata": {},
   "outputs": [],
   "source": [
    "# jax.config.update(\"jax_disable_jit\", True)\n"
   ]
  },
  {
   "cell_type": "code",
   "execution_count": 3,
   "metadata": {},
   "outputs": [],
   "source": [
    "original_part_pose = np.eye(4)\n",
    "original_part_pose[2, 3] = 0.1\n",
    "\n",
    "part_poses = [np.copy(original_part_pose)]\n",
    "for _ in range(10):\n",
    "    original_part_pose[0, 3] += 0.01\n",
    "    original_part_pose[1, 3] += 0.005\n",
    "    part_poses.append(np.copy(original_part_pose))\n"
   ]
  },
  {
   "cell_type": "code",
   "execution_count": 4,
   "metadata": {},
   "outputs": [
    {
     "name": "stdout",
     "output_type": "stream",
     "text": [
      "HUBER_DELTA = DeviceArray(1440.5648, dtype=float32)\n",
      "type(joint_parameters_variable) = <class 'articulation_estimation.factor_graph.states.GeneralJointParametersVariable'>\n",
      "Using VMAP to optimize all factor graph version\n",
      "all_costs = DeviceArray([1.5821616e-03, 6.9037609e+00], dtype=float32)\n",
      "best_costs = DeviceArray(0.00158216, dtype=float32)\n",
      "joint_model_to_use = <JointFormulation.GeneralTwist: 1>\n",
      "estimation.twist=DeviceArray([ 1.2669029e+00,  6.3334805e-01, -8.4499325e-06,\n",
      "              7.6504663e-04, -2.9488269e-04,  1.6533064e-02],            dtype=float32)\n",
      "estimation.twist_frame_in_base_pose=SE3(wxyz=[-9.9998999e-01  2.2999999e-04 -9.0000001e-05  4.9699997e-03], xyz=[-0.71287 -0.35164  0.10016])\n"
     ]
    }
   ],
   "source": [
    "estimation = FG_twist_estimation(part_poses, stddev_pos=0.005, stddev_ori=0.02)\n",
    "print(f\"{estimation.twist=}\")\n",
    "print(f\"{estimation.twist_frame_in_base_pose=}\")"
   ]
  },
  {
   "cell_type": "code",
   "execution_count": 5,
   "metadata": {},
   "outputs": [
    {
     "name": "stdout",
     "output_type": "stream",
     "text": [
      "[[ 9.9999982e-01 -6.4510276e-04 -1.1500510e-05  9.9994063e-02]\n",
      " [ 6.4510136e-04  9.9999976e-01 -2.9847084e-05  5.0011009e-02]\n",
      " [ 1.1519791e-05  2.9839663e-05  1.0000000e+00  1.0000027e-01]\n",
      " [ 0.0000000e+00  0.0000000e+00  0.0000000e+00  1.0000000e+00]]\n",
      "[[ 9.9999982e-01  6.5992551e-04  1.1776356e-05 -8.5830688e-06]\n",
      " [-6.5992627e-04  9.9999970e-01  3.0541269e-05  1.8626451e-05]\n",
      " [-1.1756201e-05 -3.0549039e-05  1.0000000e+00  1.0000096e-01]\n",
      " [ 0.0000000e+00  0.0000000e+00  0.0000000e+00  1.0000000e+00]]\n"
     ]
    }
   ],
   "source": [
    "# test: latent_pose second[0] = base_transform @ exp(twist * joint_state[0])\n",
    "\n",
    "print(\n",
    "    estimation.twist_frame_in_base_pose.as_matrix()\n",
    "    @ jaxlie_SE3.exp(estimation.twist * estimation.current_joint_configuration).as_matrix()\n",
    ")\n",
    "print(\n",
    "    estimation.twist_frame_in_base_pose.as_matrix()\n",
    "    @ jaxlie_SE3.exp(estimation.twist * estimation.aux_data[\"joint_states\"][0]).as_matrix()\n",
    ")\n",
    "\n",
    "import spatialmath.base as sm\n",
    "\n",
    "# twist_in_poses_frame = sm.tr2adjoint(np.asarray(results.base_transform.as_matrix())) @ np.asarray(results.twist)\n",
    "# print(jaxlie_SE3.exp(twist_in_poses_frame * results.aux_data[\"joint_states\"][5]).as_matrix())\n"
   ]
  },
  {
   "cell_type": "code",
   "execution_count": 6,
   "metadata": {},
   "outputs": [
    {
     "name": "stdout",
     "output_type": "stream",
     "text": [
      "[[0.56120133]\n",
      " [0.5690947 ]\n",
      " [0.5769883 ]\n",
      " [0.58488166]\n",
      " [0.59277517]\n",
      " [0.60066855]\n",
      " [0.608562  ]\n",
      " [0.6164555 ]\n",
      " [0.6243489 ]\n",
      " [0.6322424 ]\n",
      " [0.6401358 ]]\n"
     ]
    }
   ],
   "source": [
    "print(estimation.aux_data[\"joint_states\"])"
   ]
  },
  {
   "attachments": {},
   "cell_type": "markdown",
   "metadata": {},
   "source": [
    "## Explore methods for joint configuration estimation"
   ]
  },
  {
   "cell_type": "code",
   "execution_count": 7,
   "metadata": {},
   "outputs": [
    {
     "name": "stdout",
     "output_type": "stream",
     "text": [
      "the GT joint configuration is 0.6401358246803284\n"
     ]
    }
   ],
   "source": [
    "\n",
    "#  part pose = = base_transform @ exp(twist * joint_state)\n",
    "# so joint_state = log(base_transform^-1 @ part_pose) / twist\n",
    "# but this last division can suffer from numerical issues...\n",
    "\n",
    "part_pose = np.asarray(estimation.aux_data[\"latent_poses\"][\"second\"][-1].as_matrix())\n",
    "base_transform = np.asarray(estimation.twist_frame_in_base_pose.as_matrix())\n",
    "twist = np.asarray(estimation.twist)\n",
    "\n",
    "print(f\"the GT joint configuration is {estimation.current_joint_configuration}\")\n"
   ]
  },
  {
   "cell_type": "code",
   "execution_count": 8,
   "metadata": {},
   "outputs": [
    {
     "name": "stdout",
     "output_type": "stream",
     "text": [
      "[[ 9.9994844e-01 -1.0153786e-02 -1.7876686e-04  8.0883688e-01]\n",
      " [ 1.0153701e-02  9.9994832e-01 -4.7073461e-04  4.0969858e-01]\n",
      " [ 1.8353737e-04  4.6889522e-04  9.9999988e-01  1.7051399e-04]\n",
      " [ 0.0000000e+00  0.0000000e+00  0.0000000e+00  1.0000000e+00]]\n",
      "[ 0.64007269  0.64038825 -0.14997943  0.61411027  0.61432979  0.61415831]\n",
      "naive estimation = 0.4955133144422448\n"
     ]
    }
   ],
   "source": [
    "# naive joint configuration estimation -> numerical errors can dominate \n",
    "import spatialmath.base as sm\n",
    "\n",
    "pose_in_twist_frame = sm.trinv(base_transform) @ part_pose\n",
    "print(pose_in_twist_frame)\n",
    "joint_state = sm.trlog(pose_in_twist_frame, twist=True,check=False) / twist\n",
    "print(joint_state)\n",
    "print(f\"naive estimation = {np.mean(joint_state)}\")"
   ]
  },
  {
   "cell_type": "code",
   "execution_count": 9,
   "metadata": {},
   "outputs": [
    {
     "name": "stdout",
     "output_type": "stream",
     "text": [
      "[ 0.64007269  0.64038825 -0.14997943  0.61411027  0.61432979  0.61415831]\n",
      "[6.60724196e-01 3.30471011e-01 1.03260094e-06 3.82808736e-04\n",
      " 1.47604103e-04 8.27334720e-03]\n",
      "more robust estimation = 0.6399480214533965\n"
     ]
    }
   ],
   "source": [
    "# so weigh every factor according to the relative magnitude of the part twist to make a more robust estimate\n",
    "pose_twist = sm.trlog(pose_in_twist_frame, twist=True,check=False)\n",
    "normalized_pose_twist = pose_twist / np.linalg.norm(pose_twist,ord=1)\n",
    "print(pose_twist/twist)\n",
    "print(np.abs(normalized_pose_twist))\n",
    "print(f\"more robust estimation = {np.sum(pose_twist/twist * np.abs(normalized_pose_twist))}\")"
   ]
  },
  {
   "cell_type": "code",
   "execution_count": 10,
   "metadata": {},
   "outputs": [],
   "source": [
    "# but even better method is required...\n",
    "# do some explicit oultier detection or something?? \n",
    "# best option might be to use the results of the FG (which is however only valid in int the Twist frame of the FG..)"
   ]
  },
  {
   "attachments": {},
   "cell_type": "markdown",
   "metadata": {},
   "source": [
    "### Can we get rid of the 'twist frame' by expressing the twist in the base frame?"
   ]
  },
  {
   "cell_type": "code",
   "execution_count": 11,
   "metadata": {},
   "outputs": [
    {
     "name": "stdout",
     "output_type": "stream",
     "text": [
      "[ 1.26735039e+00  6.32588466e-01 -4.27035781e-05  7.65046551e-04\n",
      " -2.94882544e-04  1.65330638e-02]\n",
      "[ 1.2669029e+00  6.3334805e-01 -8.4499325e-06  7.6504663e-04\n",
      " -2.9488269e-04  1.6533064e-02]\n"
     ]
    }
   ],
   "source": [
    "# Twist_expressed_in_base = sm.tr2adjoint(base_transform) @ twist\n",
    "twist_expressed_in_base = sm.tr2adjoint(base_transform) @ twist\n",
    "print(twist_expressed_in_base)\n",
    "print(twist)"
   ]
  },
  {
   "cell_type": "code",
   "execution_count": 12,
   "metadata": {},
   "outputs": [],
   "source": [
    "# now the twist is expressed in the base frame\n",
    "# part_pose = part_pose[0] @ exp(twist * joint_state')\n"
   ]
  },
  {
   "cell_type": "code",
   "execution_count": 13,
   "metadata": {},
   "outputs": [
    {
     "name": "stdout",
     "output_type": "stream",
     "text": [
      "\u001b[2m2023-02-27T10:17:08.329424Z\u001b[0m \u001b[33m WARN\u001b[0m \u001b[2mrerun::run\u001b[0m\u001b[2m:\u001b[0m Failed to bind address \"0.0.0.0:9876\". Another Rerun instance is probably running.\n"
     ]
    }
   ],
   "source": [
    "import rerun \n",
    "rerun.init(\"test-joint-estimation\", spawn=True)\n"
   ]
  },
  {
   "cell_type": "code",
   "execution_count": 14,
   "metadata": {},
   "outputs": [],
   "source": [
    "rerun.log_points(\n",
    "    \"part_poses\",\n",
    "    positions=np.array(part_poses)[:, :3, 3],\n",
    "    colors=np.zeros((len(part_poses), 3), dtype=np.uint8),\n",
    "    radii=0.01,\n",
    ")"
   ]
  },
  {
   "cell_type": "code",
   "execution_count": 26,
   "metadata": {},
   "outputs": [
    {
     "name": "stdout",
     "output_type": "stream",
     "text": [
      "(11, 4, 4)\n"
     ]
    }
   ],
   "source": [
    "from cabinet_robot.visualisation import visualize_estimation\n",
    "visualize_estimation(estimation)"
   ]
  },
  {
   "cell_type": "code",
   "execution_count": null,
   "metadata": {},
   "outputs": [],
   "source": []
  }
 ],
 "metadata": {
  "kernelspec": {
   "display_name": "cabinet-manipulation",
   "language": "python",
   "name": "python3"
  },
  "language_info": {
   "codemirror_mode": {
    "name": "ipython",
    "version": 3
   },
   "file_extension": ".py",
   "mimetype": "text/x-python",
   "name": "python",
   "nbconvert_exporter": "python",
   "pygments_lexer": "ipython3",
   "version": "3.8.16"
  },
  "orig_nbformat": 4,
  "vscode": {
   "interpreter": {
    "hash": "89457b40fcf1113882414577f24f96d2ba778982c7827ae084ab5e840c57c8e1"
   }
  }
 },
 "nbformat": 4,
 "nbformat_minor": 2
}
