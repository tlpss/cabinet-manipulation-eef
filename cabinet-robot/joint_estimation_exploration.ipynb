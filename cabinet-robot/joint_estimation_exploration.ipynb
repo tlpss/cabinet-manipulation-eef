{
 "cells": [
  {
   "cell_type": "code",
   "execution_count": null,
   "metadata": {},
   "outputs": [],
   "source": [
    "from cabinet_robot.joint_estimation import FGJointEstimator, sturm_twist_estimation, EstimationResults\n",
    "import jax\n",
    "import numpy as np\n",
    "from jaxlie import SE3 as jaxlie_SE3\n",
    "\n",
    "%reload_ext autoreload\n",
    "%autoreload 2"
   ]
  },
  {
   "cell_type": "code",
   "execution_count": null,
   "metadata": {},
   "outputs": [],
   "source": [
    "# jax.config.update(\"jax_disable_jit\", True)\n"
   ]
  },
  {
   "cell_type": "code",
   "execution_count": null,
   "metadata": {},
   "outputs": [],
   "source": [
    "original_part_pose = np.eye(4)\n",
    "original_part_pose[2, 3] = 0.1\n",
    "\n",
    "part_poses = [np.copy(original_part_pose)]\n",
    "for _ in range(10):\n",
    "    original_part_pose[0, 3] += 0.01\n",
    "    original_part_pose[1, 3] += 0.005\n",
    "    part_poses.append(np.copy(original_part_pose))\n"
   ]
  },
  {
   "cell_type": "code",
   "execution_count": null,
   "metadata": {},
   "outputs": [],
   "source": [
    "estimator = FGJointEstimator()\n"
   ]
  },
  {
   "cell_type": "code",
   "execution_count": null,
   "metadata": {},
   "outputs": [],
   "source": [
    "graph = estimator._build_graph(11) # builds but does not compile so should run fast\n",
    "graph"
   ]
  },
  {
   "cell_type": "code",
   "execution_count": null,
   "metadata": {},
   "outputs": [],
   "source": [
    "estimator.get_compiled_graph(11) # builds and compiles so should run slow the first time"
   ]
  },
  {
   "cell_type": "code",
   "execution_count": null,
   "metadata": {},
   "outputs": [],
   "source": [
    "\n",
    "estimation = estimator.estimate_joint_twist(part_poses)\n",
    "print(f\"{estimation.twist=}\")\n",
    "print(f\"{estimation.twist_frame_in_base_pose=}\")"
   ]
  },
  {
   "cell_type": "code",
   "execution_count": null,
   "metadata": {},
   "outputs": [],
   "source": [
    "estimation.aux_data"
   ]
  },
  {
   "cell_type": "code",
   "execution_count": null,
   "metadata": {},
   "outputs": [],
   "source": [
    "# test: latent_pose second[0] = base_transform @ exp(twist * joint_state[0])\n",
    "\n",
    "print(\n",
    "    estimation.twist_frame_in_base_pose.as_matrix()\n",
    "    @ jaxlie_SE3.exp(estimation.twist * estimation.current_joint_configuration).as_matrix()\n",
    ")\n",
    "print(\n",
    "    estimation.twist_frame_in_base_pose.as_matrix()\n",
    "    @ jaxlie_SE3.exp(estimation.twist * estimation.aux_data[\"joint_states\"][0]).as_matrix()\n",
    ")\n",
    "\n",
    "import spatialmath.base as sm\n",
    "\n",
    "# twist_in_poses_frame = sm.tr2adjoint(np.asarray(results.base_transform.as_matrix())) @ np.asarray(results.twist)\n",
    "# print(jaxlie_SE3.exp(twist_in_poses_frame * results.aux_data[\"joint_states\"][5]).as_matrix())\n"
   ]
  },
  {
   "cell_type": "code",
   "execution_count": null,
   "metadata": {},
   "outputs": [],
   "source": [
    "print(estimation.aux_data[\"joint_states\"])"
   ]
  },
  {
   "attachments": {},
   "cell_type": "markdown",
   "metadata": {},
   "source": [
    "## Explore methods for joint configuration estimation"
   ]
  },
  {
   "cell_type": "code",
   "execution_count": null,
   "metadata": {},
   "outputs": [],
   "source": [
    "\n",
    "#  part pose = = base_transform @ exp(twist * joint_state)\n",
    "# so joint_state = log(base_transform^-1 @ part_pose) / twist\n",
    "# but this last division can suffer from numerical issues...\n",
    "\n",
    "part_pose = np.asarray(estimation.aux_data[\"latent_poses\"][\"second\"][-1].as_matrix())\n",
    "base_transform = np.asarray(estimation.twist_frame_in_base_pose.as_matrix())\n",
    "twist = np.asarray(estimation.twist)\n",
    "\n",
    "print(f\"the GT joint configuration is {estimation.current_joint_configuration}\")\n"
   ]
  },
  {
   "cell_type": "code",
   "execution_count": null,
   "metadata": {},
   "outputs": [],
   "source": [
    "# naive joint configuration estimation -> numerical errors can dominate \n",
    "import spatialmath.base as sm\n",
    "\n",
    "pose_in_twist_frame = sm.trinv(base_transform) @ part_pose\n",
    "print(pose_in_twist_frame)\n",
    "joint_state = sm.trlog(pose_in_twist_frame, twist=True,check=False) / twist\n",
    "print(joint_state)\n",
    "print(f\"naive estimation = {np.mean(joint_state)}\")"
   ]
  },
  {
   "cell_type": "code",
   "execution_count": null,
   "metadata": {},
   "outputs": [],
   "source": [
    "# so weigh every factor according to the relative magnitude of the part twist to make a more robust estimate\n",
    "pose_twist = sm.trlog(pose_in_twist_frame, twist=True,check=False)\n",
    "normalized_pose_twist = pose_twist / np.linalg.norm(pose_twist,ord=1)\n",
    "print(pose_twist/twist)\n",
    "print(np.abs(normalized_pose_twist))\n",
    "print(f\"more robust estimation = {np.sum(pose_twist/twist * np.abs(normalized_pose_twist))}\")"
   ]
  },
  {
   "cell_type": "code",
   "execution_count": null,
   "metadata": {},
   "outputs": [],
   "source": [
    "# but even better method is required...\n",
    "# do some explicit oultier detection or something?? \n",
    "# best option might be to use the results of the FG (which is however only valid in int the Twist frame of the FG..)"
   ]
  },
  {
   "attachments": {},
   "cell_type": "markdown",
   "metadata": {},
   "source": [
    "### Can we get rid of the 'twist frame' by expressing the twist in the base frame?"
   ]
  },
  {
   "cell_type": "code",
   "execution_count": null,
   "metadata": {},
   "outputs": [],
   "source": [
    "# Twist_expressed_in_base = sm.tr2adjoint(base_transform) @ twist\n",
    "twist_expressed_in_base = sm.tr2adjoint(base_transform) @ twist\n",
    "print(twist_expressed_in_base)\n",
    "print(twist)"
   ]
  },
  {
   "cell_type": "code",
   "execution_count": null,
   "metadata": {},
   "outputs": [],
   "source": [
    "# now the twist is expressed in the base frame\n",
    "# part_pose = part_pose[0] @ exp(twist * joint_state')\n"
   ]
  },
  {
   "cell_type": "code",
   "execution_count": null,
   "metadata": {},
   "outputs": [],
   "source": [
    "import rerun \n",
    "rerun.init(\"test-joint-estimation\", spawn=True)\n"
   ]
  },
  {
   "cell_type": "code",
   "execution_count": null,
   "metadata": {},
   "outputs": [],
   "source": [
    "rerun.log_points(\n",
    "    \"part_poses\",\n",
    "    positions=np.array(part_poses)[:, :3, 3],\n",
    "    colors=np.zeros((len(part_poses), 3), dtype=np.uint8),\n",
    "    radii=0.01,\n",
    ")"
   ]
  },
  {
   "cell_type": "code",
   "execution_count": null,
   "metadata": {},
   "outputs": [],
   "source": [
    "from cabinet_robot.visualisation import visualize_estimation\n",
    "visualize_estimation(estimation)"
   ]
  },
  {
   "cell_type": "code",
   "execution_count": null,
   "metadata": {},
   "outputs": [],
   "source": []
  }
 ],
 "metadata": {
  "kernelspec": {
   "display_name": "cabinet-manipulation",
   "language": "python",
   "name": "python3"
  },
  "language_info": {
   "codemirror_mode": {
    "name": "ipython",
    "version": 3
   },
   "file_extension": ".py",
   "mimetype": "text/x-python",
   "name": "python",
   "nbconvert_exporter": "python",
   "pygments_lexer": "ipython3",
   "version": "3.8.16"
  },
  "orig_nbformat": 4,
  "vscode": {
   "interpreter": {
    "hash": "89457b40fcf1113882414577f24f96d2ba778982c7827ae084ab5e840c57c8e1"
   }
  }
 },
 "nbformat": 4,
 "nbformat_minor": 2
}
